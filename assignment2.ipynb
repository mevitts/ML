{
 "cells": [
  {
   "cell_type": "code",
   "execution_count": 1,
   "id": "3c217ede-7f8f-468e-8b13-611295efd917",
   "metadata": {
    "editable": true,
    "slideshow": {
     "slide_type": ""
    },
    "tags": []
   },
   "outputs": [],
   "source": [
    "import numpy as np\n",
    "import pandas as pdn\n",
    "import matplotlib.pyplot as plt\n",
    "import os\n",
    "import random as r\n",
    "#updateed vers"
   ]
  },
  {
   "cell_type": "code",
   "execution_count": 2,
   "id": "39fc5a03-ff52-4720-9765-fbde0695b903",
   "metadata": {
    "editable": true,
    "scrolled": true,
    "slideshow": {
     "slide_type": ""
    },
    "tags": []
   },
   "outputs": [],
   "source": [
    "X_train, X_test = np.loadtxt('X_train.csv'), np.loadtxt('X_test.csv')\n",
    "y_train, y_test = np.loadtxt('Y_train.csv'), np.loadtxt('Y_test.csv')"
   ]
  },
  {
   "cell_type": "code",
   "execution_count": 3,
   "id": "e4d9d730-1063-417e-9040-7168352adb19",
   "metadata": {
    "editable": true,
    "slideshow": {
     "slide_type": ""
    },
    "tags": []
   },
   "outputs": [
    {
     "data": {
      "text/plain": [
       "(100, 2)"
      ]
     },
     "execution_count": 3,
     "metadata": {},
     "output_type": "execute_result"
    }
   ],
   "source": [
    "X_train.shape"
   ]
  },
  {
   "cell_type": "code",
   "execution_count": 4,
   "id": "29138d2a-6b9e-4300-989c-68eb243f6a5b",
   "metadata": {
    "editable": true,
    "slideshow": {
     "slide_type": ""
    },
    "tags": []
   },
   "outputs": [
    {
     "data": {
      "text/plain": [
       "array([-40.22844192, 121.19952851, 144.96172544, -53.60851723,\n",
       "       -80.78260693])"
      ]
     },
     "execution_count": 4,
     "metadata": {},
     "output_type": "execute_result"
    }
   ],
   "source": [
    "y_train[:5]"
   ]
  },
  {
   "cell_type": "code",
   "execution_count": 5,
   "id": "5a9fdd61-c48b-4d06-9b1b-1adf0ff8369f",
   "metadata": {
    "editable": true,
    "slideshow": {
     "slide_type": ""
    },
    "tags": []
   },
   "outputs": [],
   "source": [
    "def initialize_network(n_inputs, n_hidden, n_outputs=1):\n",
    "    network = list()\n",
    "    hidden_layer = [{'weights':[r.random() for _ in range(n_inputs+1)]} for _ in range(n_hidden)]\n",
    "    network.append(hidden_layer)\n",
    "    output_layer = [{'weights':[r.random() for _ in range(n_hidden+1)]} for _ in range(n_outputs)]\n",
    "    network.append(output_layer)\n",
    "    return network"
   ]
  },
  {
   "cell_type": "markdown",
   "id": "83f8be87-cdd7-4200-8c07-7338d2f13c48",
   "metadata": {},
   "source": [
    "hidden layer: list comprehension that for each neuron, creates a dictionary of weights. EX: [{weights: 0.4, 0.3, 0.4}, {weights: 0.7, 0.1, 0.2}...] for each neuron.\n",
    "number of weights matches the number of inputs+1, and creates neuron with number that is equal to n_hidden+1.\n",
    "They are all + 1 to account for a bias. \n",
    "output_layer is similar, but number of weights is same as number of neurons created in the hidden layer, and the number of neurons is the number specified for the number of outputs being created. "
   ]
  },
  {
   "cell_type": "code",
   "execution_count": 7,
   "id": "6616b91a-109a-47d9-ac08-07454eafae1c",
   "metadata": {},
   "outputs": [
    {
     "name": "stdout",
     "output_type": "stream",
     "text": [
      "[{'weights': [0.9560342718892494, 0.9478274870593494, 0.05655136772680869]}, {'weights': [0.08487199515892163, 0.8354988781294496, 0.7359699890685233]}, {'weights': [0.6697304014402209, 0.3081364575891442, 0.6059441656784624]}, {'weights': [0.6068017336408379, 0.5812040171120031, 0.15838287025480557]}, {'weights': [0.43066964029126864, 0.39353182020537136, 0.7230120812374659]}]\n",
      "[{'weights': [0.9948195629497427, 0.9493954730932436, 0.5441770474293208, 0.4448541887258536, 0.2682407416493281, 0.03592432939285761]}]\n"
     ]
    }
   ],
   "source": [
    "from random import seed\n",
    "r.seed(2)\n",
    "ntwrk = initialize_network(2, 5, 1)\n",
    "for layer in ntwrk:\n",
    "    print(layer)"
   ]
  },
  {
   "cell_type": "code",
   "execution_count": 8,
   "id": "1d8c7187-43d2-4483-b444-f5bf306871d8",
   "metadata": {},
   "outputs": [],
   "source": [
    "def sigmoid(x):\n",
    "    return 1 / (1 + np.exp(-x))\n",
    "    \n",
    "def activate(weights, inputs):\n",
    "    bias = weights[-1]\n",
    "    activation = 0\n",
    "    for i in range(len(weights)-1):\n",
    "        activation += inputs[i] * weights[i]\n",
    "    return activation + bias"
   ]
  },
  {
   "cell_type": "code",
   "execution_count": 9,
   "id": "92c119f9-958f-4364-ae92-31a3ecad6265",
   "metadata": {},
   "outputs": [],
   "source": [
    "def forward_propagate(network, row):\n",
    "    inputs = row\n",
    "    for layer_id, layer in enumerate(network):\n",
    "        new_inputs = []\n",
    "        for neuron in layer:\n",
    "            activation = activate(neuron['weights'], inputs)\n",
    "            if layer_id == 0:  \n",
    "                neuron['output'] = sigmoid(activation)\n",
    "            else:\n",
    "                neuron['output'] = activation\n",
    "            new_inputs.append(neuron['output'])\n",
    "        inputs = new_inputs\n",
    "    return inputs"
   ]
  },
  {
   "cell_type": "code",
   "execution_count": 10,
   "id": "e61d7d6b-e2a6-4cce-a804-7e7bacb4dc97",
   "metadata": {},
   "outputs": [
    {
     "name": "stdout",
     "output_type": "stream",
     "text": [
      "[1.541266176500034, 2.586933980013877, 2.86904937725447, 1.8627850820412455, 0.8255045081051218, 2.740996953478532, 2.3075839030440344, 1.764074658561769, 2.1989074248013347, 1.4880323726741107, 1.3993904982929046, 1.9578662135810871, 2.661927812211707, 1.1111543710573608, 2.9140828959736065, 1.7406869863250631, 1.9856910516023496, 1.6415556946235554, 1.598392004119972, 2.6123439907469583, 2.371725287030742, 2.1243457515468007, 1.4847131478493383, 2.5579166601486234, 2.0527505970840494, 1.6960593343947652, 2.446582354287561, 2.6640101349499163, 2.4299381509493294, 2.914223569721876, 1.4761463761030869, 1.9545032578976738, 1.5220036629942193, 2.389076455990158, 0.8700811362000658, 2.346543638775466, 2.365746470696657, 2.8212825830711155, 0.7531870413362907, 2.213570745566873, 2.722041730623013, 1.9243946893889645, 1.4595900973584235, 0.9314965995663164, 2.102198264017661, 2.206961224886205, 2.1293394967445107, 0.7108321859135307, 2.253213716630556, 2.108168254587788, 2.32375054468383, 0.8383444795371294, 2.627596354797061, 2.293435047361931, 2.280869584284272, 2.4471763763190766, 1.9107538828848152, 2.5029395285291054, 2.5402144343767765, 1.7867465389245303, 1.8482712409572817, 2.063173107162498, 0.6919828694558762, 2.2035440524835646, 1.0839331970593626, 2.04744083130605, 1.2847091728961453, 2.0218041113836684, 2.7617168876864358, 1.8014459447286009, 2.3126382675023973, 1.948928474528794, 1.9100808437847356, 3.0568951983220214, 2.746268755418573, 1.3953741993193742, 1.7898251037323463, 1.3532198934658837, 1.6279351080318345, 2.877492670270568, 2.281340675905722, 2.276675761108862, 2.2150549421888677, 2.797838595516123, 1.640064185650119, 2.8278496978897643, 1.4990763058151302, 1.204223548463378, 1.1803260141949274, 2.1663432062038717, 1.4591004615841223, 1.333542314290721, 0.8545048221838799, 2.230905823981803, 1.2866228024673014, 2.0250972786750214, 1.921330875297257, 2.152641060999151, 2.0663262145173875, 0.8692679665811118]\n"
     ]
    }
   ],
   "source": [
    "outputs = [forward_propagate(ntwrk, row)[0] for row in X_train]\n",
    "print(outputs)"
   ]
  },
  {
   "cell_type": "code",
   "execution_count": 11,
   "id": "a143ce2a-6b62-4b2d-9648-2c01d7e47340",
   "metadata": {},
   "outputs": [],
   "source": [
    "def sig_derivative(output):\n",
    "    output = np.clip(output, -500, 500)\n",
    "    return output * (1.0 - output)\n",
    "\n",
    "def error(actual, predicted):\n",
    "    return (actual - predicted) ** 2"
   ]
  },
  {
   "cell_type": "code",
   "execution_count": 12,
   "id": "39b21bc0-5f0d-4db2-bbd7-5857e5743793",
   "metadata": {},
   "outputs": [],
   "source": [
    "def backward_propagate(network, expected):\n",
    "    for i in reversed(range(len(network))):\n",
    "        layer = network[i]\n",
    "        errors = list()\n",
    "        #if the layer being worked on is not the output layer:\n",
    "        if i != len(network) - 1:\n",
    "            #each layer has neurons, and each neuron is now a dict of 'weights', 'output', and 'delta'\n",
    "            for j in range(len(layer)):\n",
    "                error = 0.0\n",
    "                for neuron in network[i + 1]:\n",
    "                    error += neuron['weights'][j] * neuron['delta']\n",
    "                errors.append(error)\n",
    "        else:\n",
    "            for j in range(len(layer)):\n",
    "                neuron = layer[j]\n",
    "                #derivative of MSE\n",
    "                errors.append(neuron['output'] - expected)\n",
    "        for j in range(len(layer)):\n",
    "            neuron = layer[j]\n",
    "            if i == len(network) - 1:\n",
    "                neuron['delta'] = errors[j]\n",
    "            else:\n",
    "                neuron['delta'] = errors[j] * sig_derivative(neuron['output'])"
   ]
  },
  {
   "cell_type": "code",
   "execution_count": 13,
   "id": "42cb38a4-782d-4b4a-bdd4-99ca96cfff65",
   "metadata": {},
   "outputs": [],
   "source": [
    "def update_weights(network, row, l_rate):\n",
    "    for i in range(len(network)):\n",
    "        inputs = row\n",
    "        if i != 0:\n",
    "            inputs = [neuron['output'] for neuron in network[i-1]]\n",
    "        for neuron in network[i]:\n",
    "            for j in range(len(inputs)):\n",
    "                neuron['weights'][j] -= l_rate * neuron['delta'] * inputs[j]\n",
    "            neuron['weights'][-1] -= l_rate * neuron['delta']"
   ]
  },
  {
   "cell_type": "code",
   "execution_count": 14,
   "id": "117d663f-5fc5-49b2-b96a-7975a2c5d440",
   "metadata": {},
   "outputs": [],
   "source": [
    "def epoch_breaker(n_epoch):\n",
    "    i=0\n",
    "    interval = max(1, n_epoch // 30)\n",
    "    nums = list(range(0, n_epoch, interval))\n",
    "    nums.append(n_epoch)\n",
    "    return nums"
   ]
  },
  {
   "cell_type": "code",
   "execution_count": 15,
   "id": "9fb72706-b0a9-4b31-870d-006b964ef6ca",
   "metadata": {},
   "outputs": [],
   "source": [
    "def train_network(network, X_train, y_train, l_rate, n_epoch, should_print=True):\n",
    "    nums = epoch_breaker(n_epoch)\n",
    "    loss = []\n",
    "    for epoch in range(n_epoch):\n",
    "        sum_error = 0\n",
    "        for row,target in zip(X_train, y_train):\n",
    "            outputs = forward_propagate(network, row)\n",
    "            expected = target\n",
    "            sum_error += (expected-outputs[0])**2\n",
    "            backward_propagate(network, expected)\n",
    "            update_weights(network, row, l_rate)\n",
    "        avg_error = sum_error / len(X_train)\n",
    "        loss.append(avg_error)\n",
    "        if epoch in nums and should_print:\n",
    "             print('>epoch=%d, lrate=%.3f, error=%.3f' % (epoch, l_rate, avg_error))\n",
    "    return loss"
   ]
  },
  {
   "cell_type": "code",
   "execution_count": 16,
   "id": "aa4cbe7e-cc81-4259-a87c-b88ee9968c5d",
   "metadata": {},
   "outputs": [
    {
     "name": "stdout",
     "output_type": "stream",
     "text": [
      ">epoch=0, lrate=0.010, error=1.172\n",
      ">epoch=31, lrate=0.010, error=0.020\n",
      ">epoch=62, lrate=0.010, error=0.014\n",
      ">epoch=93, lrate=0.010, error=0.011\n",
      ">epoch=124, lrate=0.010, error=0.008\n",
      ">epoch=155, lrate=0.010, error=0.007\n",
      ">epoch=186, lrate=0.010, error=0.005\n",
      ">epoch=217, lrate=0.010, error=0.005\n",
      ">epoch=248, lrate=0.010, error=0.004\n",
      ">epoch=279, lrate=0.010, error=0.004\n",
      ">epoch=310, lrate=0.010, error=0.003\n",
      ">epoch=341, lrate=0.010, error=0.003\n",
      ">epoch=372, lrate=0.010, error=0.003\n",
      ">epoch=403, lrate=0.010, error=0.003\n",
      ">epoch=434, lrate=0.010, error=0.002\n",
      ">epoch=465, lrate=0.010, error=0.002\n",
      ">epoch=496, lrate=0.010, error=0.002\n",
      ">epoch=527, lrate=0.010, error=0.002\n",
      ">epoch=558, lrate=0.010, error=0.002\n",
      ">epoch=589, lrate=0.010, error=0.002\n",
      ">epoch=620, lrate=0.010, error=0.002\n",
      ">epoch=651, lrate=0.010, error=0.002\n",
      ">epoch=682, lrate=0.010, error=0.002\n",
      ">epoch=713, lrate=0.010, error=0.002\n",
      ">epoch=744, lrate=0.010, error=0.002\n",
      ">epoch=775, lrate=0.010, error=0.001\n",
      ">epoch=806, lrate=0.010, error=0.001\n",
      ">epoch=837, lrate=0.010, error=0.001\n",
      ">epoch=868, lrate=0.010, error=0.001\n",
      ">epoch=899, lrate=0.010, error=0.001\n",
      ">epoch=930, lrate=0.010, error=0.001\n"
     ]
    }
   ],
   "source": [
    "r.seed(2)\n",
    "epochs = 950\n",
    "\n",
    "X_train_normalized = (X_train - X_train.mean(axis=0)) / X_train.std(axis=0)\n",
    "y_train_normalized = (y_train - y_train.mean()) / y_train.std()\n",
    "X_test_normalized = (X_test - X_test.mean(axis=0)) / X_train.std(axis=0)\n",
    "loss = train_network(ntwrk, X_train_normalized, y_train_normalized, 0.01, epochs)"
   ]
  },
  {
   "cell_type": "code",
   "execution_count": 17,
   "id": "f8b9ee2f-d92f-44ec-8f8a-fc9818713b78",
   "metadata": {},
   "outputs": [],
   "source": [
    "def predict(network, row):\n",
    "    outputs = forward_propagate(network, row)\n",
    "    return outputs[0]"
   ]
  },
  {
   "cell_type": "code",
   "execution_count": 18,
   "id": "8a740850-5f8d-4a1f-b853-8daf3930daf4",
   "metadata": {},
   "outputs": [],
   "source": [
    "def compute_metrics(y_true, y_pred, dataset_name):\n",
    "    mse = np.mean((y_true - y_pred) ** 2)\n",
    "    mae = np.mean(np.abs(y_true - y_pred))\n",
    "    ss_tot = np.sum((y_true - np.mean(y_true)) ** 2)\n",
    "    ss_res = np.sum((y_true - y_pred) ** 2)\n",
    "    r2 = 1 - (ss_res / ss_tot) if ss_tot != 0 else 0\n",
    "    print(f\"{dataset_name} Metrics:\")\n",
    "    print(f\"  MSE: {mse:.3f}\")\n",
    "    print(f\"  MAE: {mae:.3f}\")\n",
    "    print(f\"  R² Score: {r2:.3f}\")"
   ]
  },
  {
   "cell_type": "code",
   "execution_count": 19,
   "id": "e849d9f1-46ed-416e-a839-9366346b8dce",
   "metadata": {},
   "outputs": [
    {
     "name": "stdout",
     "output_type": "stream",
     "text": [
      "Test MSE: 29.41930946016461\n"
     ]
    }
   ],
   "source": [
    "train_pred_norm = [predict(ntwrk, row) for row in X_train_normalized]\n",
    "train_pred = np.array([p * y_train.std() + y_train.mean() for p in train_pred_norm])\n",
    "\n",
    "predictions_norm = [predict(ntwrk, row) for row in X_test_normalized]\n",
    "\n",
    "preds_final = []\n",
    "for p in predictions_norm:\n",
    "    predicted_y = p * y_train.std() + y_train.mean()\n",
    "    preds_final.append(predicted_y)\n",
    "\n",
    "mse = np.mean((np.array(preds_final) - y_test) ** 2)\n",
    "\n",
    "print(\"Test MSE:\", mse)"
   ]
  },
  {
   "cell_type": "code",
   "execution_count": 20,
   "id": "1fc4860c-c9e4-4397-8ded-55a2ec18636b",
   "metadata": {},
   "outputs": [
    {
     "name": "stdout",
     "output_type": "stream",
     "text": [
      "Training Metrics:\n",
      "  MSE: 6.768\n",
      "  MAE: 2.100\n",
      "  R² Score: 0.999\n",
      "Test Metrics:\n",
      "  MSE: 29.419\n",
      "  MAE: 4.186\n",
      "  R² Score: 0.995\n"
     ]
    }
   ],
   "source": [
    "compute_metrics(y_train, train_pred, \"Training\")\n",
    "compute_metrics(y_test, preds_final, \"Test\")"
   ]
  },
  {
   "cell_type": "code",
   "execution_count": 21,
   "id": "b24f3126-47e0-4a8a-98ad-b00488590684",
   "metadata": {},
   "outputs": [
    {
     "name": "stdout",
     "output_type": "stream",
     "text": [
      "-147.078116997524 160.16900121190633\n"
     ]
    }
   ],
   "source": [
    "print(y_train.min(), y_train.max())"
   ]
  },
  {
   "cell_type": "markdown",
   "id": "d2e35188-b12b-4f43-a78f-cda2bd7dcbe9",
   "metadata": {},
   "source": [
    "This 2-layer architecture uses the Sigmoid activation function for the hidden layer, and backpropagation for regression using the Mean Square Error (MSE) loss. This is different from the update rule for the network trained for binary classification that uses log loss because tbe binary classifier uses sigmoid in the output, not the hidden layer while the regression output uses no activation. This affects the output because for binary classifier, the output will only be 0 or 1, while using regression can output any real number. "
   ]
  },
  {
   "cell_type": "markdown",
   "id": "82977eb7-c3d9-43f6-9d6b-8c1e066d3cfb",
   "metadata": {},
   "source": [
    "Questions: \n",
    "1.) The activation function being used for the output layer is the linear activation. The dataset, and more specifically the target values, is a continuous set of values in a wide range of possibilities, along with tasking the MSE loss, the problem is related to regression. Since linear allows for predictions of any real value, using other activations would limit the possible predictions.\n",
    "\n",
    "2.) There should be 1 neuron in the output layer, as we want it to predict one value based on the input. This is hinted based on the target data also being one dimensional.\n",
    "\n",
    "3.) After playing around with different numbers of neurons, learning rates, and epochs, the lowest training MSE was 6.768 and the lowest test MSE obtained was 29.419. This test data having a higher error shows some overfitting, though with an R^2 score of .995, it is clear the model stll generalizes pretty well with unseen data. "
   ]
  },
  {
   "cell_type": "code",
   "execution_count": 24,
   "id": "390319a8-7cdb-4c79-9d9c-5fc2fad9eda4",
   "metadata": {},
   "outputs": [
    {
     "data": {
      "image/png": "[encoded data removed]",
      "text/plain": [
       "<Figure size 1000x600 with 1 Axes>"
      ]
     },
     "metadata": {},
     "output_type": "display_data"
    }
   ],
   "source": [
    "plt.figure(figsize=(10,6))\n",
    "plt.plot(loss)\n",
    "plt.xlabel('Iterations (Epochs)')\n",
    "plt.ylabel('Mean Squared Error')\n",
    "plt.title('Loss as a Function of Iterations')\n",
    "plt.grid(True)\n",
    "plt.show()"
   ]
  },
  {
   "cell_type": "code",
   "execution_count": 25,
   "id": "d8cc18c3-0088-4752-b5bc-31413f5ee442",
   "metadata": {},
   "outputs": [
    {
     "name": "stdout",
     "output_type": "stream",
     "text": [
      "  Learning Rate: 0.001\n",
      "  Train MSE: 6.2520\n",
      "  Test MSE: 28.5341\n",
      "  Learning Rate: 0.0025\n",
      "  Train MSE: 5.2891\n",
      "  Test MSE: 26.0072\n",
      "  Learning Rate: 0.004\n",
      "  Train MSE: 4.2774\n",
      "  Test MSE: 23.2778\n",
      "  Learning Rate: 0.0055000000000000005\n",
      "  Train MSE: 3.4120\n",
      "  Test MSE: 20.9303\n",
      "  Learning Rate: 0.007\n",
      "  Train MSE: 2.7243\n",
      "  Test MSE: 19.0759\n",
      "  Learning Rate: 0.0085\n",
      "  Train MSE: 2.1834\n",
      "  Test MSE: 17.6308\n",
      "  Learning Rate: 0.010000000000000002\n",
      "  Train MSE: 1.7478\n",
      "  Test MSE: 16.4842\n"
     ]
    }
   ],
   "source": [
    "\n",
    "lr_nums = np.arange(0.001, 0.01, .0015).tolist()\n",
    "accuracies = {}\n",
    "\n",
    "for num in lr_nums:\n",
    "    losses = train_network(ntwrk, X_train_normalized, y_train_normalized, num, epochs, should_print=False)\n",
    "    train_pred_norm = [predict(ntwrk, row) for row in X_train_normalized]\n",
    "    train_pred = np.array([p * y_train.std() + y_train.mean() for p in train_pred_norm])\n",
    "    \n",
    "    predictions_norm = [predict(ntwrk, row) for row in X_test_normalized]\n",
    "    \n",
    "    preds_final = []\n",
    "    for p in predictions_norm:\n",
    "        predicted_y = p * y_train.std() + y_train.mean()\n",
    "        preds_final.append(predicted_y)\n",
    "        \n",
    "    train_mse = np.mean((train_pred - y_train) ** 2)\n",
    "    test_mse = np.mean((preds_final - y_test) ** 2)\n",
    "    \n",
    "    accuracies[num] = {'train_mse': train_mse,\n",
    "                        'test_mse': test_mse\n",
    "                      }\n",
    "    print(f\"  Learning Rate: {num}\")\n",
    "    print(f\"  Train MSE: {train_mse:.4f}\")\n",
    "    print(f\"  Test MSE: {test_mse:.4f}\")"
   ]
  },
  {
   "cell_type": "code",
   "execution_count": 26,
   "id": "dfd049a4-3349-44a9-9145-c11b2fa9c2e5",
   "metadata": {},
   "outputs": [],
   "source": [
    "train_mses, test_mses = [], []\n",
    "learning_rates = list(accuracies.keys())\n",
    "\n",
    "for lr in learning_rates:\n",
    "    train_mses.append([accuracies[lr]['train_mse']])\n",
    "    test_mses.append([accuracies[lr]['test_mse']])"
   ]
  },
  {
   "cell_type": "code",
   "execution_count": 27,
   "id": "e93c5dbb-fff1-4fd6-991b-69a443845f35",
   "metadata": {},
   "outputs": [
    {
     "data": {
      "image/png": "[encoded data removed]",
      "text/plain": [
       "<Figure size 1000x600 with 1 Axes>"
      ]
     },
     "metadata": {},
     "output_type": "display_data"
    }
   ],
   "source": [
    "plt.figure(figsize=(10,6))\n",
    "plt.plot(learning_rates, train_mses, 'o-', color='blue', label='Train MSE')\n",
    "plt.plot(learning_rates, test_mses, 'o-', color='red', label='Test MSE')\n",
    "plt.xlabel('Learning Rate)')\n",
    "plt.ylabel('Mean Squared Error')\n",
    "plt.title('Learning Rate and Model Performance')\n",
    "plt.grid(True)\n",
    "plt.xscale('log')\n",
    "plt.show()"
   ]
  },
  {
   "cell_type": "markdown",
   "id": "e94edc75-870a-44d4-9f49-20c4f599329c",
   "metadata": {},
   "source": [
    "5.) Learning rate determines how quickly the model will try to adapt to the training data. High ones will cause a large update in its parameters, with a chance of overshooting the minima. On the other hand, smaller learning rates will update with much smaller changes in the parameters, however might not ever reach the minima."
   ]
  }
 ],
 "metadata": {
  "kernelspec": {
   "display_name": "Python [conda env:gpu] *",
   "language": "python",
   "name": "conda-env-gpu-py"
  },
  "language_info": {
   "codemirror_mode": {
    "name": "ipython",
    "version": 3
   },
   "file_extension": ".py",
   "mimetype": "text/x-python",
   "name": "python",
   "nbconvert_exporter": "python",
   "pygments_lexer": "ipython3",
   "version": "3.9.18"
  },
  "toc": {
   "base_numbering": 1
  }
 },
 "nbformat": 4,
 "nbformat_minor": 5
}
